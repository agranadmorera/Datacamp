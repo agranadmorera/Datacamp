{
 "cells": [
  {
   "cell_type": "markdown",
   "id": "prostate-arizona",
   "metadata": {
    "id": "bA5ajAmk7XH6"
   },
   "source": [
    "# Intermediate Python\n",
    "\n",
    "👋 Welcome to your workspace! Here, you can write and run Python code and add text. The purpose of this workspace is to allow you to experiment with the data from [Intermediate Python](https://app.datacamp.com/learn/courses/intermediate-python) and practice your newly learned skills with some challenges. You can find out more about DataCamp Workspace [here](https://workspace-docs.datacamp.com/getting-started).\n",
    "\n",
    "Cells with text (such as this one) are [Markdown](https://www.markdownguide.org/basic-syntax/) cells. Markdown cells can contain notes, explain code, and summarize findings. As this may be your first workspace, we have included some steps to get you started!"
   ]
  },
  {
   "cell_type": "markdown",
   "id": "c1c12180",
   "metadata": {},
   "source": [
    "## 1. Get Started\n",
    "Below is a code cell. It is used to execute Python code. The code below imports three packages you used in Intermediate Python: `numpy`, `pandas`, and `matplotlib`. The code also imports data you used in the course using the `pandas` [`read_csv()`](https://pandas.pydata.org/docs/reference/api/pandas.read_csv.html) funtion.\n",
    "\n",
    "🏃**To execute the code, select the cell and click \"Run\" or the ► icon. You can also use Shift-Enter to run a selected cell.**"
   ]
  },
  {
   "cell_type": "code",
   "execution_count": null,
   "id": "2e25fdd8-4d84-45bc-80f0-949917e00a17",
   "metadata": {
    "scrolled": true
   },
   "outputs": [],
   "source": [
    "# Importing course packages; you can add more too!\n",
    "import numpy as np\n",
    "import pandas as pd\n",
    "import matplotlib.pyplot as plt\n",
    "\n",
    "# Import the three datasets\n",
    "gapminder = pd.read_csv(\"datasets/gapminder.csv\")\n",
    "cars = pd.read_csv(\"datasets/cars.csv\")\n",
    "brics = pd.read_csv(\"datasets/brics.csv\")\n",
    "\n",
    "# Print the first DataFrame\n",
    "gapminder"
   ]
  },
  {
   "cell_type": "markdown",
   "id": "c09c5c3a",
   "metadata": {},
   "source": [
    "## 2. Write Code\n",
    "After running the cell above, you have created three `pandas` DataFrames: `gapminder`, `cars`, and `brics`. \n",
    "\n",
    "Try one (or more) of the following tasks to get you started. Don't forget to add more code cells if you need them. This is your place to experiment! \n",
    "\n",
    "1. Create a loop that iterates through the `brics` DataFrame and prints \"The population of {country} is {population} million!\". If you're stuck, try reviewing this [video](https://campus.datacamp.com/courses/intermediate-python/loops?ex=13).\n",
    "2. Create a histogram of the life expectancies for countries in Africa in the `gapminder` DataFrame. Make sure your plot has a title, axis labels, and has an appropriate number of bins. If you're stuck, try reviewing this [video](https://campus.datacamp.com/courses/intermediate-python/matplotlib?ex=7) and this [video](https://campus.datacamp.com/courses/intermediate-python/matplotlib?ex=13).\n",
    "3. Simulate 10 rolls of two six-sided dice. If the two dice add up to 7 or 11, print \"A win!\". If the two dice add up to 2, 3, or 12, print \"A loss!\". If the two dice add up to any other number, print \"Roll again!\". If you're stuck, try reviewing this [video](https://campus.datacamp.com/courses/intermediate-python/case-study-hacker-statistics?ex=5).\n",
    "\n",
    "Be sure to check out the Answer Key at the end to see one way to solve each problem. Did you try something similar?"
   ]
  },
  {
   "cell_type": "code",
   "execution_count": null,
   "id": "10176b86",
   "metadata": {},
   "outputs": [],
   "source": [
    "# Replace the code below and try one or more of the three challenges above!\n",
    "print(\"Let's get started!\")"
   ]
  },
  {
   "cell_type": "markdown",
   "id": "798990da",
   "metadata": {},
   "source": [
    "Feeling confident about your skills? Continue on to [Data Manipulation with pandas](https://app.datacamp.com/learn/courses/data-manipulation-with-pandas)! This course will help you continue to develop essential data science skills with pandas, and set you up for more advanced techniques such as visualization and machine learning!"
   ]
  },
  {
   "cell_type": "markdown",
   "id": "7f71ac0e",
   "metadata": {},
   "source": [
    "## Answer Key\n",
    "Below are potential solutions to the challenges shown above. Try them out and see how they compare to how you approached the problem!"
   ]
  },
  {
   "cell_type": "code",
   "execution_count": null,
   "id": "common-reflection",
   "metadata": {},
   "outputs": [],
   "source": [
    "# 1. Create a loop that prints \"The population of {country} is {population}!\"\n",
    "for lab, row in brics.iterrows():\n",
    "    print(\n",
    "        \"The population of \"\n",
    "        + str(row[\"country\"])\n",
    "        + \" is \"\n",
    "        + str(row[\"population\"])\n",
    "        + \" million!\"\n",
    "    )"
   ]
  },
  {
   "cell_type": "code",
   "execution_count": null,
   "id": "lyric-speech",
   "metadata": {},
   "outputs": [],
   "source": [
    "# 2. Create a histogram of the life expectancies for countries in Africa in the `gapminder` DataFrame.\n",
    "gapminder_africa = gapminder[gapminder.cont == \"Africa\"]\n",
    "plt.hist(gapminder_africa.life_exp, bins=20)\n",
    "plt.title(\"Distribution of Life Expectancies in African Countries\")\n",
    "plt.xlabel(\"Life Expectancy\")\n",
    "plt.ylabel(\"Count\")\n",
    "plt.show()"
   ]
  },
  {
   "cell_type": "code",
   "execution_count": null,
   "id": "northern-howard",
   "metadata": {},
   "outputs": [],
   "source": [
    "# 3. Create a simulation of 10 rolls of two six-sided dice.\n",
    "for x in range(10):\n",
    "    dice_one = np.random.randint(1, 7)\n",
    "    dice_two = np.random.randint(1, 7)\n",
    "    if dice_one + dice_two == 7 or dice_one + dice_two == 11:\n",
    "        print(\"A win!\")\n",
    "    elif (\n",
    "        dice_one + dice_two == 2\n",
    "        or dice_one + dice_two == 3\n",
    "        or dice_one + dice_two == 12\n",
    "    ):\n",
    "        print(\"A loss!\")\n",
    "    else:\n",
    "        print(\"Roll again!\")"
   ]
  }
 ],
 "metadata": {
  "colab": {
   "name": "Welcome to DataCamp Workspaces.ipynb",
   "provenance": []
  },
  "kernelspec": {
   "display_name": "Python 3 (ipykernel)",
   "language": "python",
   "name": "python3"
  },
  "language_info": {
   "codemirror_mode": {
    "name": "ipython",
    "version": 3
   },
   "file_extension": ".py",
   "mimetype": "text/x-python",
   "name": "python",
   "nbconvert_exporter": "python",
   "pygments_lexer": "ipython3",
   "version": "3.8.10"
  },
  "varInspector": {
   "cols": {
    "lenName": 16,
    "lenType": 16,
    "lenVar": 40
   },
   "kernels_config": {
    "python": {
     "delete_cmd_postfix": "",
     "delete_cmd_prefix": "del ",
     "library": "var_list.py",
     "varRefreshCmd": "print(var_dic_list())"
    },
    "r": {
     "delete_cmd_postfix": ") ",
     "delete_cmd_prefix": "rm(",
     "library": "var_list.r",
     "varRefreshCmd": "cat(var_dic_list()) "
    }
   },
   "types_to_exclude": [
    "module",
    "function",
    "builtin_function_or_method",
    "instance",
    "_Feature"
   ],
   "window_display": false
  }
 },
 "nbformat": 4,
 "nbformat_minor": 5
}
