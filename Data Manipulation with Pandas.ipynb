{
 "cells": [
  {
   "cell_type": "markdown",
   "id": "prostate-arizona",
   "metadata": {
    "id": "bA5ajAmk7XH6"
   },
   "source": [
    "# Data Manipulation with pandas\n",
    "\n",
    "👋 Welcome to your workspace! Here, you can write and run Python code and add text. The purpose of this workspace is to allow you to experiment with the data from [Data Manipulation with pandas](https://app.datacamp.com/learn/courses/data-manipulation-with-pandas) and practice your newly learned skills with some challenges. You can find out more about DataCamp Workspace [here](https://workspace-docs.datacamp.com/getting-started).\n",
    "\n",
    "Cells with text (such as this one) are [Markdown](https://www.markdownguide.org/basic-syntax/) cells. Markdown cells can contain notes, explain code, and summarize findings. As this may be your first workspace, we have included some steps to get you started!"
   ]
  },
  {
   "cell_type": "markdown",
   "id": "c1c12180",
   "metadata": {},
   "source": [
    "## 1. Get Started\n",
    "Below is a code cell. It is used to execute Python code. The code below imports three packages you used in Data Manipulation with pandas: `numpy`, `pandas`, and `matplotlib`. The code also imports data you used in the course using the `pandas` [`read_csv()`](https://pandas.pydata.org/docs/reference/api/pandas.read_csv.html) funtion.\n",
    "\n",
    "🏃**To execute the code, select the cell and click \"Run\" or the ► icon. You can also use Shift-Enter to run a selected cell.**"
   ]
  },
  {
   "cell_type": "code",
   "execution_count": null,
   "id": "2e25fdd8-4d84-45bc-80f0-949917e00a17",
   "metadata": {
    "scrolled": true
   },
   "outputs": [],
   "source": [
    "# Importing course packages; you can add more too!\n",
    "import numpy as np\n",
    "import pandas as pd\n",
    "import matplotlib.pyplot as plt\n",
    "\n",
    "# Import the four datasets\n",
    "avocado = pd.read_csv(\"datasets/avocado.csv\")\n",
    "homelessness = pd.read_csv(\"datasets/homelessness.csv\")\n",
    "temperatures = pd.read_csv(\"datasets/temperatures.csv\")\n",
    "walmart = pd.read_csv(\"datasets/walmart.csv\")\n",
    "\n",
    "# Print the first DataFrame\n",
    "avocado"
   ]
  },
  {
   "cell_type": "markdown",
   "id": "c09c5c3a",
   "metadata": {},
   "source": [
    "## 2. Write Code\n",
    "After running the cell above, you have created four `pandas` DataFrames: `avocado`, `homelessness`, `temperatures`, and `walmart`. \n",
    "\n",
    "Try one (or more) of the following tasks to get you started. Don't forget to add more code cells if you need them. This is your place to experiment! \n",
    "\n",
    "1. Print the highest weekly sales for each `department` in the `walmart` DataFrame. Limit your results to the top five departments, in descending order. If you're stuck, try reviewing this [video](https://campus.datacamp.com/courses/data-manipulation-with-pandas/aggregating-dataframes?ex=1).\n",
    "2. What was the total `nb_sold` of organic avocados in 2017 in the `avocado` DataFrame? If you're stuck, try reviewing this [video](https://campus.datacamp.com/courses/data-manipulation-with-pandas/slicing-and-indexing-dataframes?ex=6).\n",
    "3. Create a bar plot of the total number of homeless people by region in the `homelessness` DataFrame. Order the bars in descending order. Bonus: create a horizontal bar chart. If you're stuck, try reviewing this [video](https://campus.datacamp.com/courses/data-manipulation-with-pandas/creating-and-visualizing-dataframes?ex=1).\n",
    "4. Create a line plot with two lines representing the temperatures in Toronto and Rome. Make sure to properly label your plot. Bonus: add a legend for the two lines. If you're stuck, try reviewing this [video](https://campus.datacamp.com/courses/data-manipulation-with-pandas/creating-and-visualizing-dataframes?ex=1).\n",
    "\n",
    "Be sure to check out the Answer Key at the end to see one way to solve each problem. Did you try something similar?"
   ]
  },
  {
   "cell_type": "code",
   "execution_count": null,
   "id": "10176b86",
   "metadata": {},
   "outputs": [],
   "source": [
    "# Replace the code below and try one or more of the four challenges above!\n",
    "print(\"Let's get started!\")"
   ]
  },
  {
   "cell_type": "markdown",
   "id": "798990da",
   "metadata": {},
   "source": [
    "Feeling confident about your skills? Continue on to [Joining Data with pandas](https://app.datacamp.com/learn/courses/joining-data-with-pandas)! This course will teach you how to combine multiple datasets, an essential skill on the road to becoming a data scientist!"
   ]
  },
  {
   "cell_type": "markdown",
   "id": "7f71ac0e",
   "metadata": {},
   "source": [
    "## Answer Key\n",
    "Below are potential solutions to the challenges shown above. Try them out and see how they compare to how you approached the problem!"
   ]
  },
  {
   "cell_type": "code",
   "execution_count": null,
   "id": "drawn-discharge",
   "metadata": {},
   "outputs": [],
   "source": [
    "# 1. Print the highest weekly sales for each `department` contained in the `walmart` DataFrame.\n",
    "department_sales = walmart.groupby(\"department\")[[\"weekly_sales\"]].max()\n",
    "best_departments = department_sales.sort_values(by=\"weekly_sales\", ascending=False)\n",
    "best_departments.head()"
   ]
  },
  {
   "cell_type": "code",
   "execution_count": null,
   "id": "fitting-allen",
   "metadata": {},
   "outputs": [],
   "source": [
    "# 2. What was the total `nb_sold` of organic avocados in 2017 in the `avocado` DataFrame?\n",
    "avocado_2017 = avocado.set_index(\"date\").sort_index().loc[\"2017\":\"2018\"]\n",
    "avocado_organic_2017 = avocado_2017.loc[(avocado_2017[\"type\"] == \"organic\")]\n",
    "avocado_organic_2017[\"nb_sold\"].sum()"
   ]
  },
  {
   "cell_type": "code",
   "execution_count": null,
   "id": "nasty-amount",
   "metadata": {},
   "outputs": [],
   "source": [
    "# 3. Create a bar plot of the total number of homeless `individuals` by `region` in the `homelessness` DataFrame. Order the bars in descending order. Bonus: create a horizontal bar chart.\n",
    "homelessness_by_region = (\n",
    "    homelessness.groupby(\"region\")[\"individuals\"].sum().sort_values()\n",
    ")\n",
    "homelessness_by_region.plot(kind=\"barh\")\n",
    "plt.title(\"Total Number of Homeless People by Region\")\n",
    "plt.xlabel(\"Number\")\n",
    "plt.ylabel(\"Region\")\n",
    "plt.show()"
   ]
  },
  {
   "cell_type": "code",
   "execution_count": null,
   "id": "healthy-region",
   "metadata": {},
   "outputs": [],
   "source": [
    "# 4. Create a line plot with two lines representing the temperatures in Toronto and Rome over time. Make sure to properly label your plot. Bonus: add a legend for the two lines.\n",
    "toronto = temperatures[temperatures.city == \"Toronto\"]\n",
    "rome = temperatures[temperatures.city == \"Rome\"]\n",
    "toronto.groupby(\"date\")[\"avg_temp_c\"].mean().plot(kind=\"line\", color=\"blue\")\n",
    "rome.groupby(\"date\")[\"avg_temp_c\"].mean().plot(kind=\"line\", color=\"red\")\n",
    "plt.title(\"Toronto and Rome Average Temperature (C)\")\n",
    "plt.xlabel(\"Date\")\n",
    "plt.ylabel(\"Temperature\")\n",
    "plt.legend(labels=[\"Toronto\", \"Rome\"])\n",
    "plt.show()"
   ]
  }
 ],
 "metadata": {
  "colab": {
   "name": "Welcome to DataCamp Workspaces.ipynb",
   "provenance": []
  },
  "kernelspec": {
   "display_name": "Python 3 (ipykernel)",
   "language": "python",
   "name": "python3"
  },
  "language_info": {
   "codemirror_mode": {
    "name": "ipython",
    "version": 3
   },
   "file_extension": ".py",
   "mimetype": "text/x-python",
   "name": "python",
   "nbconvert_exporter": "python",
   "pygments_lexer": "ipython3",
   "version": "3.8.10"
  },
  "varInspector": {
   "cols": {
    "lenName": 16,
    "lenType": 16,
    "lenVar": 40
   },
   "kernels_config": {
    "python": {
     "delete_cmd_postfix": "",
     "delete_cmd_prefix": "del ",
     "library": "var_list.py",
     "varRefreshCmd": "print(var_dic_list())"
    },
    "r": {
     "delete_cmd_postfix": ") ",
     "delete_cmd_prefix": "rm(",
     "library": "var_list.r",
     "varRefreshCmd": "cat(var_dic_list()) "
    }
   },
   "types_to_exclude": [
    "module",
    "function",
    "builtin_function_or_method",
    "instance",
    "_Feature"
   ],
   "window_display": false
  }
 },
 "nbformat": 4,
 "nbformat_minor": 5
}
